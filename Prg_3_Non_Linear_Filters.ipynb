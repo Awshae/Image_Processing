{
 "cells": [
  {
   "cell_type": "code",
   "execution_count": 1,
   "id": "c7c9b5a6",
   "metadata": {},
   "outputs": [
    {
     "ename": "ModuleNotFoundError",
     "evalue": "No module named 'cv2'",
     "output_type": "error",
     "traceback": [
      "\u001b[0;31m---------------------------------------------------------------------------\u001b[0m",
      "\u001b[0;31mModuleNotFoundError\u001b[0m                       Traceback (most recent call last)",
      "Cell \u001b[0;32mIn[1], line 1\u001b[0m\n\u001b[0;32m----> 1\u001b[0m \u001b[38;5;28;01mimport\u001b[39;00m \u001b[38;5;21;01mcv2\u001b[39;00m\n\u001b[1;32m      2\u001b[0m \u001b[38;5;28;01mimport\u001b[39;00m \u001b[38;5;21;01mnumpy\u001b[39;00m \u001b[38;5;28;01mas\u001b[39;00m \u001b[38;5;21;01mnp\u001b[39;00m\n\u001b[1;32m      3\u001b[0m \u001b[38;5;28;01mimport\u001b[39;00m \u001b[38;5;21;01mmatplotlib\u001b[39;00m\u001b[38;5;21;01m.\u001b[39;00m\u001b[38;5;21;01mpyplot\u001b[39;00m \u001b[38;5;28;01mas\u001b[39;00m \u001b[38;5;21;01mplt\u001b[39;00m\n",
      "\u001b[0;31mModuleNotFoundError\u001b[0m: No module named 'cv2'"
     ]
    }
   ],
   "source": [
    "import cv2\n",
    "import numpy as np\n",
    "import matplotlib.pyplot as plt\n",
    "\n",
    "image = cv2.imread(\"Input Images/girl.jpeg\")\n",
    "\n",
    "result = ()\n",
    "\n",
    "noise = np.random.normal(0,20,size = image.shape)\n",
    "noisy_image = np.clip(image + noise,0,255).astype(np.uint8)\n",
    "\n",
    "mean_filtered = cv2.blur(noisy_image,(5,5))\n",
    "median_filtered = cv2.medianBlur(noisy_image,5)\n",
    "gaussian_filtered = cv2.GaussianBlur(noisy_image,(5,5),0)\n",
    "\n",
    "plt.subplot(231),plt.imshow(image, cmap='gray')\n",
    "plt.title('Original Image'), plt.axis('off')\n",
    "\n",
    "plt.subplot(232),plt.imshow(noisy_image, cmap='gray')\n",
    "plt.title('Noise Image'), plt.axis('off')\n",
    "\n",
    "plt.subplot(233),plt.imshow(mean_filtered, cmap='gray')\n",
    "plt.title('Mean Filtered'), plt.axis('off')\n",
    "\n",
    "plt.subplot(234),plt.imshow(median_filtered, cmap='gray')\n",
    "plt.title('Median Filtered'), plt.axis('off')\n",
    "\n",
    "plt.subplot(235),plt.imshow(gaussian_filtered, cmap='gray')\n",
    "plt.title('Gaussian Filtered'), plt.axis('off')"
   ]
  },
  {
   "cell_type": "code",
   "execution_count": null,
   "id": "4e683b6a",
   "metadata": {},
   "outputs": [],
   "source": []
  }
 ],
 "metadata": {
  "kernelspec": {
   "display_name": "Python 3 (ipykernel)",
   "language": "python",
   "name": "python3"
  },
  "language_info": {
   "codemirror_mode": {
    "name": "ipython",
    "version": 3
   },
   "file_extension": ".py",
   "mimetype": "text/x-python",
   "name": "python",
   "nbconvert_exporter": "python",
   "pygments_lexer": "ipython3",
   "version": "3.9.6"
  }
 },
 "nbformat": 4,
 "nbformat_minor": 5
}
